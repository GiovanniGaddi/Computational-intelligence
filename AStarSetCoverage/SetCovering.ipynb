{
 "cells": [
  {
   "cell_type": "code",
   "execution_count": 1,
   "metadata": {},
   "outputs": [],
   "source": [
    "from queue import PriorityQueue\n",
    "from collections import namedtuple\n",
    "from functools import reduce\n",
    "from random import random\n",
    "from math import ceil\n",
    "import numpy\n"
   ]
  },
  {
   "cell_type": "code",
   "execution_count": 2,
   "metadata": {},
   "outputs": [],
   "source": [
    "def covered(state):\n",
    "    return reduce(\n",
    "        numpy.logical_or, [SETS[i] for i in state.taken], numpy.array([False for _ in range(PROBLEM_SIZE)])\n",
    "    )\n",
    "def goal_check(state):\n",
    "    return numpy.all(covered(state) )"
   ]
  },
  {
   "cell_type": "code",
   "execution_count": 12,
   "metadata": {},
   "outputs": [],
   "source": [
    "State = namedtuple('State', ['taken', 'not_taken'])\n",
    "PROBLEM_SIZE = 15\n",
    "NUM_SETS = 200\n",
    "SETS = tuple(numpy.array([random() < 0.2 for _ in range(PROBLEM_SIZE)]) for _ in range(NUM_SETS))\n",
    "assert goal_check(State(set(range(NUM_SETS)), set())), \"Probelm not solvable\""
   ]
  },
  {
   "cell_type": "code",
   "execution_count": 17,
   "metadata": {},
   "outputs": [],
   "source": [
    "rarityTiles = NUM_SETS - sum(SETS)\n",
    "estimateperValue = rarityTiles/sum(rarityTiles)\n",
    "def h(state):\n",
    "    estimate = sum(estimateperValue * (numpy.logical_not(covered(state))))\n",
    "    return ceil(estimate)\n",
    "\n",
    "def h3(state):\n",
    "    already_covered = covered(state)\n",
    "    if numpy.all(already_covered):\n",
    "        return 0\n",
    "    missing_size = PROBLEM_SIZE - sum(already_covered)\n",
    "    candidates = sorted((sum(numpy.logical_and(s, numpy.logical_not(already_covered))) for s in SETS), reverse=True)\n",
    "    taken = 1\n",
    "    while sum(candidates[:taken]) < missing_size:\n",
    "        taken += 1\n",
    "    return taken\n",
    "\n",
    "#objective is result with the lowest number of tiles\n",
    "def f(state):\n",
    "    return len(state.taken) + h(state)\n",
    "def f3(state):\n",
    "    return len(state.taken) + h3(state)"
   ]
  },
  {
   "cell_type": "code",
   "execution_count": 18,
   "metadata": {},
   "outputs": [
    {
     "ename": "KeyboardInterrupt",
     "evalue": "",
     "output_type": "error",
     "traceback": [
      "\u001b[1;31m---------------------------------------------------------------------------\u001b[0m",
      "\u001b[1;31mKeyboardInterrupt\u001b[0m                         Traceback (most recent call last)",
      "\u001b[1;32mc:\\Users\\demon\\OneDrive\\Poli_To\\AIDA\\CI\\Code\\CI\\AStarSetCoverage\\SetCovering.ipynb Cell 5\u001b[0m line \u001b[0;36m1\n\u001b[0;32m      <a href='vscode-notebook-cell:/c%3A/Users/demon/OneDrive/Poli_To/AIDA/CI/Code/CI/AStarSetCoverage/SetCovering.ipynb#W1sZmlsZQ%3D%3D?line=8'>9</a>\u001b[0m     \u001b[39mfor\u001b[39;00m tile \u001b[39min\u001b[39;00m current_state\u001b[39m.\u001b[39mnot_taken:\n\u001b[0;32m     <a href='vscode-notebook-cell:/c%3A/Users/demon/OneDrive/Poli_To/AIDA/CI/Code/CI/AStarSetCoverage/SetCovering.ipynb#W1sZmlsZQ%3D%3D?line=9'>10</a>\u001b[0m         new_state \u001b[39m=\u001b[39m State(\n\u001b[0;32m     <a href='vscode-notebook-cell:/c%3A/Users/demon/OneDrive/Poli_To/AIDA/CI/Code/CI/AStarSetCoverage/SetCovering.ipynb#W1sZmlsZQ%3D%3D?line=10'>11</a>\u001b[0m             current_state\u001b[39m.\u001b[39mtaken \u001b[39m^\u001b[39m {tile}, \n\u001b[0;32m     <a href='vscode-notebook-cell:/c%3A/Users/demon/OneDrive/Poli_To/AIDA/CI/Code/CI/AStarSetCoverage/SetCovering.ipynb#W1sZmlsZQ%3D%3D?line=11'>12</a>\u001b[0m             current_state\u001b[39m.\u001b[39mnot_taken \u001b[39m^\u001b[39m {tile}\n\u001b[0;32m     <a href='vscode-notebook-cell:/c%3A/Users/demon/OneDrive/Poli_To/AIDA/CI/Code/CI/AStarSetCoverage/SetCovering.ipynb#W1sZmlsZQ%3D%3D?line=12'>13</a>\u001b[0m             )\n\u001b[1;32m---> <a href='vscode-notebook-cell:/c%3A/Users/demon/OneDrive/Poli_To/AIDA/CI/Code/CI/AStarSetCoverage/SetCovering.ipynb#W1sZmlsZQ%3D%3D?line=13'>14</a>\u001b[0m         frontier\u001b[39m.\u001b[39mput((f(new_state), new_state))\n\u001b[0;32m     <a href='vscode-notebook-cell:/c%3A/Users/demon/OneDrive/Poli_To/AIDA/CI/Code/CI/AStarSetCoverage/SetCovering.ipynb#W1sZmlsZQ%3D%3D?line=14'>15</a>\u001b[0m     _ , current_state \u001b[39m=\u001b[39m frontier\u001b[39m.\u001b[39mget()\n\u001b[0;32m     <a href='vscode-notebook-cell:/c%3A/Users/demon/OneDrive/Poli_To/AIDA/CI/Code/CI/AStarSetCoverage/SetCovering.ipynb#W1sZmlsZQ%3D%3D?line=16'>17</a>\u001b[0m \u001b[39mprint\u001b[39m(\u001b[39mf\u001b[39m\u001b[39m\"\u001b[39m\u001b[39mSolved in \u001b[39m\u001b[39m{\u001b[39;00mcounter\u001b[39m:\u001b[39;00m\u001b[39m,\u001b[39m\u001b[39m}\u001b[39;00m\u001b[39m steps (\u001b[39m\u001b[39m{\u001b[39;00m\u001b[39mlen\u001b[39m(current_state\u001b[39m.\u001b[39mtaken)\u001b[39m}\u001b[39;00m\u001b[39m tiles)\u001b[39m\u001b[39m\"\u001b[39m)\n",
      "\u001b[1;32mc:\\Users\\demon\\OneDrive\\Poli_To\\AIDA\\CI\\Code\\CI\\AStarSetCoverage\\SetCovering.ipynb Cell 5\u001b[0m line \u001b[0;36m2\n\u001b[0;32m     <a href='vscode-notebook-cell:/c%3A/Users/demon/OneDrive/Poli_To/AIDA/CI/Code/CI/AStarSetCoverage/SetCovering.ipynb#W1sZmlsZQ%3D%3D?line=18'>19</a>\u001b[0m \u001b[39mdef\u001b[39;00m \u001b[39mf\u001b[39m(state):\n\u001b[1;32m---> <a href='vscode-notebook-cell:/c%3A/Users/demon/OneDrive/Poli_To/AIDA/CI/Code/CI/AStarSetCoverage/SetCovering.ipynb#W1sZmlsZQ%3D%3D?line=19'>20</a>\u001b[0m     \u001b[39mreturn\u001b[39;00m \u001b[39mlen\u001b[39m(state\u001b[39m.\u001b[39mtaken) \u001b[39m+\u001b[39m h(state)\n",
      "\u001b[1;32mc:\\Users\\demon\\OneDrive\\Poli_To\\AIDA\\CI\\Code\\CI\\AStarSetCoverage\\SetCovering.ipynb Cell 5\u001b[0m line \u001b[0;36m4\n\u001b[0;32m      <a href='vscode-notebook-cell:/c%3A/Users/demon/OneDrive/Poli_To/AIDA/CI/Code/CI/AStarSetCoverage/SetCovering.ipynb#W1sZmlsZQ%3D%3D?line=2'>3</a>\u001b[0m \u001b[39mdef\u001b[39;00m \u001b[39mh\u001b[39m(state):\n\u001b[1;32m----> <a href='vscode-notebook-cell:/c%3A/Users/demon/OneDrive/Poli_To/AIDA/CI/Code/CI/AStarSetCoverage/SetCovering.ipynb#W1sZmlsZQ%3D%3D?line=3'>4</a>\u001b[0m     estimate \u001b[39m=\u001b[39m \u001b[39msum\u001b[39;49m(estimateperValue \u001b[39m*\u001b[39;49m (numpy\u001b[39m.\u001b[39;49mlogical_not(covered(state))))\n\u001b[0;32m      <a href='vscode-notebook-cell:/c%3A/Users/demon/OneDrive/Poli_To/AIDA/CI/Code/CI/AStarSetCoverage/SetCovering.ipynb#W1sZmlsZQ%3D%3D?line=4'>5</a>\u001b[0m     \u001b[39mreturn\u001b[39;00m estimate\n",
      "\u001b[1;31mKeyboardInterrupt\u001b[0m: "
     ]
    }
   ],
   "source": [
    "frontier = PriorityQueue()\n",
    "state = State(set(), set(range(NUM_SETS)))\n",
    "frontier.put((f(state),state))\n",
    "\n",
    "counter = 0\n",
    "_ , current_state = frontier.get()\n",
    "while not goal_check(current_state):\n",
    "    counter += 1\n",
    "    for tile in current_state.not_taken:\n",
    "        new_state = State(\n",
    "            current_state.taken ^ {tile}, \n",
    "            current_state.not_taken ^ {tile}\n",
    "            )\n",
    "        frontier.put((f(new_state), new_state))\n",
    "    _ , current_state = frontier.get()\n",
    "    \n",
    "print(f\"Solved in {counter:,} steps ({len(current_state.taken)} tiles)\")\n",
    "print(current_state.taken)"
   ]
  }
 ],
 "metadata": {
  "kernelspec": {
   "display_name": "Python 3",
   "language": "python",
   "name": "python3"
  },
  "language_info": {
   "codemirror_mode": {
    "name": "ipython",
    "version": 3
   },
   "file_extension": ".py",
   "mimetype": "text/x-python",
   "name": "python",
   "nbconvert_exporter": "python",
   "pygments_lexer": "ipython3",
   "version": "3.12.0"
  }
 },
 "nbformat": 4,
 "nbformat_minor": 2
}
