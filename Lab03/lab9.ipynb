{
 "cells": [
  {
   "cell_type": "markdown",
   "metadata": {},
   "source": [
    "Copyright **`(c)`** 2023 Giovanni Squillero `<giovanni.squillero@polito.it>`  \n",
    "[`https://github.com/squillero/computational-intelligence`](https://github.com/squillero/computational-intelligence)  \n",
    "Free for personal or classroom use; see [`LICENSE.md`](https://github.com/squillero/computational-intelligence/blob/master/LICENSE.md) for details.  "
   ]
  },
  {
   "cell_type": "markdown",
   "metadata": {},
   "source": [
    "# LAB9\n",
    "\n",
    "Write a local-search algorithm (eg. an EA) able to solve the *Problem* instances 1, 2, 5, and 10 on a 1000-loci genomes, using a minimum number of fitness calls. That's all.\n",
    "\n",
    "### Deadlines:\n",
    "\n",
    "* Submission: Sunday, December 3 ([CET](https://www.timeanddate.com/time/zones/cet))\n",
    "* Reviews: Sunday, December 10 ([CET](https://www.timeanddate.com/time/zones/cet))\n",
    "\n",
    "Notes:\n",
    "\n",
    "* Reviews will be assigned  on Monday, December 4\n",
    "* You need to commit in order to be selected as a reviewer (ie. better to commit an empty work than not to commit)"
   ]
  },
  {
   "cell_type": "code",
   "execution_count": 3,
   "metadata": {},
   "outputs": [
    {
     "ename": "ModuleNotFoundError",
     "evalue": "No module named 'lab9_lib'",
     "output_type": "error",
     "traceback": [
      "\u001b[1;31m---------------------------------------------------------------------------\u001b[0m",
      "\u001b[1;31mModuleNotFoundError\u001b[0m                       Traceback (most recent call last)",
      "\u001b[1;32mc:\\Users\\demon\\OneDrive\\Poli_To\\AIDA\\CI\\Code\\CI\\AStarSetCoverage\\Lab03\\lab9.ipynb Cell 3\u001b[0m line \u001b[0;36m7\n\u001b[0;32m      <a href='vscode-notebook-cell:/c%3A/Users/demon/OneDrive/Poli_To/AIDA/CI/Code/CI/AStarSetCoverage/Lab03/lab9.ipynb#W2sZmlsZQ%3D%3D?line=4'>5</a>\u001b[0m \u001b[39mimport\u001b[39;00m \u001b[39mnumpy\u001b[39;00m\n\u001b[0;32m      <a href='vscode-notebook-cell:/c%3A/Users/demon/OneDrive/Poli_To/AIDA/CI/Code/CI/AStarSetCoverage/Lab03/lab9.ipynb#W2sZmlsZQ%3D%3D?line=5'>6</a>\u001b[0m \u001b[39mfrom\u001b[39;00m \u001b[39mtqdm\u001b[39;00m \u001b[39mimport\u001b[39;00m tqdm\n\u001b[1;32m----> <a href='vscode-notebook-cell:/c%3A/Users/demon/OneDrive/Poli_To/AIDA/CI/Code/CI/AStarSetCoverage/Lab03/lab9.ipynb#W2sZmlsZQ%3D%3D?line=6'>7</a>\u001b[0m \u001b[39mimport\u001b[39;00m \u001b[39mlab9_lib\u001b[39;00m\n",
      "\u001b[1;31mModuleNotFoundError\u001b[0m: No module named 'lab9_lib'"
     ]
    }
   ],
   "source": [
    "from random import choices\n",
    "from dataclasses import dataclass\n",
    "from copy import copy\n",
    "from random import random, choice, randint, sample\n",
    "import numpy\n",
    "from tqdm import tqdm\n",
    "\n",
    "import lab9_lib"
   ]
  },
  {
   "cell_type": "code",
   "execution_count": null,
   "metadata": {},
   "outputs": [],
   "source": [
    "INSTANCES = (1,2,5,10)\n",
    "LOCI_GENOMES = 1000\n",
    "\n",
    "NUM_PROB = 20\n",
    "PROB_REP = 10\n",
    "\n",
    "OFFSPRING_SIZE = 100\n",
    "POPULATION_SIZE = 500\n",
    "MAX_ITERATIONS = 1000\n",
    "TOURNAMENT_SIZE = 20\n",
    "\n",
    "@dataclass\n",
    "class Individual:\n",
    "    genotype: list[bool]\n",
    "    fitness: float"
   ]
  },
  {
   "cell_type": "code",
   "execution_count": null,
   "metadata": {},
   "outputs": [],
   "source": [
    "\n",
    "def randMutation(individual: Individual, n = 1) -> Individual:\n",
    "    offspring = copy(individual)\n",
    "    positions = sample(range(0, LOCI_GENOMES), n)\n",
    "    for pos in positions:\n",
    "        offspring.genotype[pos] = not offspring.genotype[pos]\n",
    "        offspring.fitness = None\n",
    "    return offspring\n",
    "\n",
    "def oneCutXover(individual1: Individual, individual2: Individual, cut_point) -> Individual:\n",
    "    assert len(individual1.genotype) == len(individual2.genotype)\n",
    "    assert cut_point < len(individual1.genotype)\n",
    "    offspring = Individual(genotype = individual1.genotype[:cut_point] + individual2.genotype[cut_point:], fitness = None)\n",
    "    assert len(offspring.genotype) == LOCI_GENOMES\n",
    "    return offspring\n",
    "\n",
    "def oneRandCutXover(individual1: Individual, individual2: Individual) -> Individual:\n",
    "    cut_point = randint(0, LOCI_GENOMES-1)\n",
    "    return oneCutXover(individual1, individual2, cut_point)\n",
    "\n",
    "def andXover(individual1: Individual, individual2: Individual) -> Individual:\n",
    "    offspring = Individual(genotype = [x and y for x,y in zip(individual1.genotype, individual2.genotype)], fitness = None)\n",
    "    assert len(offspring.genotype) == LOCI_GENOMES\n",
    "    return offspring\n",
    "\n",
    "def orXover(individual1: Individual, individual2: Individual) -> Individual:\n",
    "    offspring = Individual(genotype = [x or y for x,y in zip(individual1.genotype, individual2.genotype)], fitness = None)\n",
    "    assert len(offspring.genotype) == LOCI_GENOMES\n",
    "    return offspring\n",
    "\n",
    "def xorXover(individual1: Individual, individual2: Individual) -> Individual:\n",
    "    offspring = Individual(genotype = [x ^ y for x,y in zip(individual1.genotype, individual2.genotype)], fitness = None)\n",
    "    assert len(offspring.genotype) == LOCI_GENOMES\n",
    "    return offspring\n",
    "\n",
    "def select_parent(population):\n",
    "    pool = [choice(population) for _ in range(TOURNAMENT_SIZE)]\n",
    "    champion = max(pool, key=lambda i: i.fitness)\n",
    "    return champion"
   ]
  },
  {
   "cell_type": "code",
   "execution_count": null,
   "metadata": {},
   "outputs": [],
   "source": [
    "def genPopulation(fitness, sorted = False):\n",
    "    population = []\n",
    "    for _ in range(POPULATION_SIZE):\n",
    "        ind = Individual(\n",
    "            genotype=[choice((False, True)) for _ in range(LOCI_GENOMES)],\n",
    "            fitness=None\n",
    "        )\n",
    "        \n",
    "        ind.fitness = fitness(ind.genotype)\n",
    "        population.append(ind)\n",
    "        \n",
    "        if sorted:\n",
    "            population.sort(key=lambda i: i.fitness, reverse= True)\n",
    "    return population\n",
    "    "
   ]
  },
  {
   "cell_type": "code",
   "execution_count": null,
   "metadata": {},
   "outputs": [],
   "source": [
    "for instance in INSTANCES:\n",
    "    probabilities = numpy.linspace(0, 1, NUM_PROB)\n",
    "    prob_Rep = {f'{key:.2%}': 0 for key in probabilities}\n",
    "    for _ in range(PROB_REP):\n",
    "        min_calls = -1\n",
    "        best_prob = \"\"\n",
    "        for probability in probabilities:\n",
    "            fitness = lab9_lib.make_problem(instance)\n",
    "            population = genPopulation(fitness)\n",
    "            solution = False\n",
    "            for generation in range(MAX_ITERATIONS):\n",
    "                offspring = list()\n",
    "                for counter in range(OFFSPRING_SIZE):\n",
    "                    if random() < probability:\n",
    "                        p = select_parent(population)\n",
    "                        o = randMutation(p)\n",
    "                    else:\n",
    "                        p1 = select_parent(population)\n",
    "                        p2 = select_parent(population)\n",
    "                        #o = oneRandCutXover(p1, p2)\n",
    "                        o = orXover(p1, p2)\n",
    "                    o.fitness = fitness(o.genotype)\n",
    "                    offspring.append(o)\n",
    "                    if o.fitness >= 1.0:\n",
    "                        solution = True\n",
    "                        break\n",
    "                population.extend(offspring)\n",
    "                population.sort(key=lambda i: i.fitness, reverse=True)\n",
    "                population = population[:POPULATION_SIZE]\n",
    "                if solution:\n",
    "                    #print(f'Prob: {probability}, calls: {fitness.calls}')\n",
    "                    if min_calls < 0:\n",
    "                        min_calls = fitness.calls\n",
    "                        best_prob = f'{probability:.2%}'\n",
    "                    elif fitness.calls < min_calls:\n",
    "                        min_calls = fitness.calls\n",
    "                        best_prob = f'{probability:.2%}'\n",
    "                    break\n",
    "            if min_calls < 0:\n",
    "                        min_calls = fitness.calls\n",
    "                        best_prob = f'{probability:.2%}'\n",
    "        prob_Rep[best_prob] = prob_Rep[best_prob] + 1\n",
    "    \n",
    "    print(f'instance: {instance}')\n",
    "    print(prob_Rep)\n"
   ]
  }
 ],
 "metadata": {
  "kernelspec": {
   "display_name": "ci-fLJ3OwGs-py3.12",
   "language": "python",
   "name": "python3"
  },
  "language_info": {
   "codemirror_mode": {
    "name": "ipython",
    "version": 3
   },
   "file_extension": ".py",
   "mimetype": "text/x-python",
   "name": "python",
   "nbconvert_exporter": "python",
   "pygments_lexer": "ipython3",
   "version": "3.12.0"
  }
 },
 "nbformat": 4,
 "nbformat_minor": 2
}
