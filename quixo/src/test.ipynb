{
 "cells": [
  {
   "cell_type": "code",
   "execution_count": 73,
   "metadata": {},
   "outputs": [],
   "source": [
    "import numpy\n",
    "from enum import Enum\n",
    "from collections import namedtuple\n",
    "from scipy import signal\n",
    "from game import Move\n",
    "from copy import deepcopy"
   ]
  },
  {
   "cell_type": "code",
   "execution_count": 74,
   "metadata": {},
   "outputs": [],
   "source": [
    "BOARD_SIZE = (5,5)\n",
    "mask = numpy.zeros(BOARD_SIZE, dtype=bool)\n",
    "mask[0, :] = True\n",
    "mask[-1, :] = True\n",
    "mask[:, 0] = True\n",
    "mask[:, -1] = True\n",
    "board = numpy.ones(BOARD_SIZE, dtype=numpy.uint8) * -1\n",
    "rboard = numpy.random.randint(-1, 2, BOARD_SIZE, dtype=numpy.int8)\n",
    "numBoard = numpy.array(range(25)).reshape(5,5)\n",
    "Slide = namedtuple('Slide', ['roll', 'axis'])\n"
   ]
  },
  {
   "cell_type": "code",
   "execution_count": 75,
   "metadata": {},
   "outputs": [
    {
     "name": "stdout",
     "output_type": "stream",
     "text": [
      "[[ 0  1  2  3  4]\n",
      " [ 5  6  7  8  9]\n",
      " [10 11 12 13 14]\n",
      " [15 16 17 18 19]\n",
      " [20 21 22 23 24]]\n",
      "[[  0   1   2   3   4]\n",
      " [  5   6   7   8   9]\n",
      " [ 10  11  12  13  14]\n",
      " [ 15  16  17  18  19]\n",
      " [100  20  21  23  24]]\n"
     ]
    }
   ],
   "source": [
    "print(numBoard)\n",
    "def _getNextState(from_pos: tuple[int, int], slide: Move, playerID: int, initialBoard: numpy.ndarray) -> numpy.ndarray:\n",
    "        board = deepcopy(initialBoard)\n",
    "        board[from_pos[1], from_pos[0]] = playerID\n",
    "\n",
    "        if slide == Move.LEFT:\n",
    "            board[from_pos[1], from_pos[0]:] = numpy.roll(board[from_pos[1], from_pos[0]:], -1)\n",
    "        elif slide == Move.RIGHT:\n",
    "            board[from_pos[1], :from_pos[0]+1] = numpy.roll(board[from_pos[1], :from_pos[0]+1], 1)\n",
    "        elif slide == Move.TOP:\n",
    "            board[from_pos[1]:, from_pos[0]] = numpy.roll(board[from_pos[1]:, from_pos[0]], -1)\n",
    "        elif slide == Move.BOTTOM:\n",
    "            board[:from_pos[1]+1, from_pos[0]] = numpy.roll(board[:from_pos[1]+1, from_pos[0]], 1)\n",
    "        return board\n",
    "\n",
    "Coord = (2,4)\n",
    "slide = Move.RIGHT\n",
    "player = 100\n",
    "print(_getNextState(Coord, slide, player, numBoard))"
   ]
  },
  {
   "cell_type": "code",
   "execution_count": 76,
   "metadata": {},
   "outputs": [],
   "source": [
    "# def _checkWinner(self, board: numpy.ndarray)-> int:\n",
    "#     self._\n",
    "\n",
    "# print(_checkWinner(rboard))"
   ]
  },
  {
   "cell_type": "code",
   "execution_count": 78,
   "metadata": {},
   "outputs": [
    {
     "name": "stdout",
     "output_type": "stream",
     "text": [
      "[[-1  0  1  1 -1]\n",
      " [ 0 -1 -1  0  1]\n",
      " [ 0 -1 -1  1 -1]\n",
      " [-1  1  0  0  0]\n",
      " [ 0  1  0  1  0]]\n",
      "True\n"
     ]
    }
   ],
   "source": [
    "print(rboard)\n",
    "def __playerWinner(board: numpy.ndarray, playerID: int) -> bool:\n",
    "    vfboard = board == playerID\n",
    "    return (numpy.all(vfboard, axis=1).any() or #any row\n",
    "        numpy.all(vfboard, axis=0).any() or #any col\n",
    "        numpy.all(numpy.diag(vfboard)) or #main diagonal\n",
    "        numpy.all(numpy.diag(numpy.fliplr(vfboard)))) #second diagonal\n",
    "\n",
    "def _checkWinner(self, board: numpy.ndarray)-> int:\n",
    "    if __playerWinner(board, 1):\n",
    "        return 1\n",
    "    if __playerWinner(board, 0):\n",
    "        return 0\n",
    "    return -1\n",
    "\n",
    "\n"
   ]
  },
  {
   "cell_type": "code",
   "execution_count": 79,
   "metadata": {},
   "outputs": [
    {
     "name": "stdout",
     "output_type": "stream",
     "text": [
      "True\n"
     ]
    }
   ],
   "source": [
    "\n",
    "print(float('inf') == float('inf'))"
   ]
  }
 ],
 "metadata": {
  "kernelspec": {
   "display_name": "Python 3",
   "language": "python",
   "name": "python3"
  },
  "language_info": {
   "codemirror_mode": {
    "name": "ipython",
    "version": 3
   },
   "file_extension": ".py",
   "mimetype": "text/x-python",
   "name": "python",
   "nbconvert_exporter": "python",
   "pygments_lexer": "ipython3",
   "version": "3.12.1"
  }
 },
 "nbformat": 4,
 "nbformat_minor": 2
}
